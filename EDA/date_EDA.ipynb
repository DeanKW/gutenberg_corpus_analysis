{
 "cells": [
  {
   "cell_type": "markdown",
   "id": "6627f5d4-025b-4545-875c-1940d5e6daf5",
   "metadata": {},
   "source": [
    "# Possible Writing Date Distribution"
   ]
  },
  {
   "cell_type": "code",
   "execution_count": 1,
   "id": "83075512-994b-4452-898b-ba04a4578844",
   "metadata": {},
   "outputs": [],
   "source": [
    "import numpy as np\n",
    "import pandas as pd\n",
    "import os, sys\n",
    "import glob\n",
    "\n",
    "from collections import Counter\n",
    "import matplotlib.pyplot as plt"
   ]
  },
  {
   "cell_type": "code",
   "execution_count": 22,
   "id": "d79c18e3-a6dd-4ea8-b154-cc0edf7a7a88",
   "metadata": {},
   "outputs": [],
   "source": [
    "repos = os.path.join(os.getcwd(), os.pardir, os.pardir)\n",
    "gutenberg_repo_path = os.path.join(repos, 'gutenberg')\n",
    "gutenberg_analysis_repo = os.path.join(repos, 'gutenberg-analysis')\n",
    "corpus_analysis_repo = os.path.join(os.getcwd(), os.pardir)"
   ]
  },
  {
   "cell_type": "code",
   "execution_count": 23,
   "id": "aa80022b-8e3e-47e0-a6b9-d3f8de15e0b5",
   "metadata": {},
   "outputs": [],
   "source": [
    "## import internal helper functions\n",
    "analysis_src_dir = os.path.join(gutenberg_analysis_repo,'src')\n",
    "sys.path.append(analysis_src_dir)\n",
    "from data_io import get_book\n",
    "\n",
    "gutenberg_src_dir = os.path.join(gutenberg_repo_path,'src')\n",
    "sys.path.append(gutenberg_src_dir)\n",
    "\n",
    "from metaquery import meta_query\n",
    "from jsd import jsdalpha\n",
    "\n",
    "sys.path.append(corpus_analysis_repo)\n",
    "from misc_utils import setup_graph_params"
   ]
  },
  {
   "cell_type": "markdown",
   "id": "ea25d684-432b-4562-9aef-7d6cdfc82b60",
   "metadata": {},
   "source": [
    "# Paths etc. you should set"
   ]
  },
  {
   "cell_type": "code",
   "execution_count": 4,
   "id": "f6ed4c23-7ca4-4c39-8315-a983f789a29e",
   "metadata": {},
   "outputs": [],
   "source": [
    "# If True, uses the static database names, if false, uses the ones from the gutenberg repo\n",
    "USE_STATIC_DB=True"
   ]
  },
  {
   "cell_type": "code",
   "execution_count": 5,
   "id": "4a3e8041-cf20-47df-bdf9-775c935381e5",
   "metadata": {},
   "outputs": [],
   "source": [
    "GUTENBERG_STATIC_DATABASE = '/Users/dean/Documents/GradSchool/TheoryOfMachineLearning/gutenberg_static_database'"
   ]
  },
  {
   "cell_type": "markdown",
   "id": "979ce4ef-e033-4ebd-83a2-b4d7e660b808",
   "metadata": {},
   "source": [
    "## You probably don't need to change this"
   ]
  },
  {
   "cell_type": "code",
   "execution_count": 6,
   "id": "0871e871-3c3a-400d-9e26-4a35ad8c6bcb",
   "metadata": {},
   "outputs": [],
   "source": [
    "# gutenberg_info_fold will be whatever the equivalent to your top level directory of the repo is\n",
    "# If using the static dataset, you will have to put it in that structure\n",
    "\n",
    "if USE_STATIC_DB is True:\n",
    "    gutenberg_info_fold = GUTENBERG_STATIC_DATABASE\n",
    "    filter_exist = False\n",
    "else:\n",
    "    gutenberg_info_fold = gutenberg_repo_path\n",
    "    filter_exist=True\n",
    "    \n",
    "metadata_filepath = os.path.join(gutenberg_info_fold, 'metadata', 'metadata.csv')"
   ]
  },
  {
   "cell_type": "markdown",
   "id": "68986c78-9f8b-4154-bfae-f8b1e0681a44",
   "metadata": {},
   "source": [
    "# Load the Metadata"
   ]
  },
  {
   "cell_type": "code",
   "execution_count": 12,
   "id": "9e1f013a-f967-47cb-a3d6-87f43325d89f",
   "metadata": {},
   "outputs": [
    {
     "name": "stdout",
     "output_type": "stream",
     "text": [
      "WARNING: Language nan is not a string\n",
      "WARNING: Language nan is not a string\n"
     ]
    }
   ],
   "source": [
    "mq = meta_query(path=metadata_filepath, filter_exist=filter_exist)"
   ]
  },
  {
   "cell_type": "markdown",
   "id": "9ded2672-f788-423f-9d4a-27793c52c73a",
   "metadata": {},
   "source": [
    "## Let's add line counts"
   ]
  },
  {
   "cell_type": "code",
   "execution_count": 13,
   "id": "601fb691-56ee-41d9-a7a9-8ef4130bffac",
   "metadata": {},
   "outputs": [],
   "source": [
    "if not USE_STATIC_DB:\n",
    "    mq.add_line_count()"
   ]
  },
  {
   "cell_type": "code",
   "execution_count": null,
   "id": "01b507ca-ab04-42d2-8520-218a21e19cd8",
   "metadata": {},
   "outputs": [],
   "source": []
  },
  {
   "cell_type": "markdown",
   "id": "d8c4bf6a-c82c-4387-b6a3-085ebe49f9ac",
   "metadata": {},
   "source": [
    "# Possible Creation Year\n",
    "\n",
    "Since there is no data on the year a book was written, we will use author birth as a proxy."
   ]
  },
  {
   "cell_type": "code",
   "execution_count": 14,
   "id": "fc998538-b9ca-4b11-9c76-e0cd108009a8",
   "metadata": {
    "scrolled": true
   },
   "outputs": [
    {
     "data": {
      "text/html": [
       "<div>\n",
       "<style scoped>\n",
       "    .dataframe tbody tr th:only-of-type {\n",
       "        vertical-align: middle;\n",
       "    }\n",
       "\n",
       "    .dataframe tbody tr th {\n",
       "        vertical-align: top;\n",
       "    }\n",
       "\n",
       "    .dataframe thead th {\n",
       "        text-align: right;\n",
       "    }\n",
       "</style>\n",
       "<table border=\"1\" class=\"dataframe\">\n",
       "  <thead>\n",
       "    <tr style=\"text-align: right;\">\n",
       "      <th></th>\n",
       "      <th>id</th>\n",
       "      <th>title</th>\n",
       "      <th>author</th>\n",
       "      <th>authoryearofbirth</th>\n",
       "      <th>authoryearofdeath</th>\n",
       "      <th>language</th>\n",
       "      <th>downloads</th>\n",
       "      <th>subjects</th>\n",
       "      <th>type</th>\n",
       "      <th>language_set</th>\n",
       "    </tr>\n",
       "  </thead>\n",
       "  <tbody>\n",
       "    <tr>\n",
       "      <th>1</th>\n",
       "      <td>PG1</td>\n",
       "      <td>The Declaration of Independence of the United ...</td>\n",
       "      <td>Jefferson, Thomas</td>\n",
       "      <td>1743.0</td>\n",
       "      <td>1826.0</td>\n",
       "      <td>['en']</td>\n",
       "      <td>604.0</td>\n",
       "      <td>{'United States -- History -- Revolution, 1775...</td>\n",
       "      <td>Text</td>\n",
       "      <td>{en}</td>\n",
       "    </tr>\n",
       "    <tr>\n",
       "      <th>3</th>\n",
       "      <td>PG3</td>\n",
       "      <td>John F. Kennedy's Inaugural Address</td>\n",
       "      <td>Kennedy, John F. (John Fitzgerald)</td>\n",
       "      <td>1917.0</td>\n",
       "      <td>1963.0</td>\n",
       "      <td>['en']</td>\n",
       "      <td>28.0</td>\n",
       "      <td>{'Presidents -- United States -- Inaugural add...</td>\n",
       "      <td>Text</td>\n",
       "      <td>{en}</td>\n",
       "    </tr>\n",
       "    <tr>\n",
       "      <th>4</th>\n",
       "      <td>PG4</td>\n",
       "      <td>Lincoln's Gettysburg Address: Given November 1...</td>\n",
       "      <td>Lincoln, Abraham</td>\n",
       "      <td>1809.0</td>\n",
       "      <td>1865.0</td>\n",
       "      <td>['en']</td>\n",
       "      <td>55.0</td>\n",
       "      <td>{'Consecration of cemeteries -- Pennsylvania -...</td>\n",
       "      <td>Text</td>\n",
       "      <td>{en}</td>\n",
       "    </tr>\n",
       "    <tr>\n",
       "      <th>6</th>\n",
       "      <td>PG6</td>\n",
       "      <td>Give Me Liberty or Give Me Death</td>\n",
       "      <td>Henry, Patrick</td>\n",
       "      <td>1736.0</td>\n",
       "      <td>1799.0</td>\n",
       "      <td>['en']</td>\n",
       "      <td>54.0</td>\n",
       "      <td>{'United States -- Politics and government -- ...</td>\n",
       "      <td>Text</td>\n",
       "      <td>{en}</td>\n",
       "    </tr>\n",
       "    <tr>\n",
       "      <th>8</th>\n",
       "      <td>PG8</td>\n",
       "      <td>Abraham Lincoln's Second Inaugural Address</td>\n",
       "      <td>Lincoln, Abraham</td>\n",
       "      <td>1809.0</td>\n",
       "      <td>1865.0</td>\n",
       "      <td>['en']</td>\n",
       "      <td>25.0</td>\n",
       "      <td>{'United States -- Politics and government -- ...</td>\n",
       "      <td>Text</td>\n",
       "      <td>{en}</td>\n",
       "    </tr>\n",
       "  </tbody>\n",
       "</table>\n",
       "</div>"
      ],
      "text/plain": [
       "    id                                              title  \\\n",
       "1  PG1  The Declaration of Independence of the United ...   \n",
       "3  PG3                John F. Kennedy's Inaugural Address   \n",
       "4  PG4  Lincoln's Gettysburg Address: Given November 1...   \n",
       "6  PG6                   Give Me Liberty or Give Me Death   \n",
       "8  PG8         Abraham Lincoln's Second Inaugural Address   \n",
       "\n",
       "                               author  authoryearofbirth  authoryearofdeath  \\\n",
       "1                   Jefferson, Thomas             1743.0             1826.0   \n",
       "3  Kennedy, John F. (John Fitzgerald)             1917.0             1963.0   \n",
       "4                    Lincoln, Abraham             1809.0             1865.0   \n",
       "6                      Henry, Patrick             1736.0             1799.0   \n",
       "8                    Lincoln, Abraham             1809.0             1865.0   \n",
       "\n",
       "  language  downloads                                           subjects  \\\n",
       "1   ['en']      604.0  {'United States -- History -- Revolution, 1775...   \n",
       "3   ['en']       28.0  {'Presidents -- United States -- Inaugural add...   \n",
       "4   ['en']       55.0  {'Consecration of cemeteries -- Pennsylvania -...   \n",
       "6   ['en']       54.0  {'United States -- Politics and government -- ...   \n",
       "8   ['en']       25.0  {'United States -- Politics and government -- ...   \n",
       "\n",
       "   type language_set  \n",
       "1  Text         {en}  \n",
       "3  Text         {en}  \n",
       "4  Text         {en}  \n",
       "6  Text         {en}  \n",
       "8  Text         {en}  "
      ]
     },
     "execution_count": 14,
     "metadata": {},
     "output_type": "execute_result"
    }
   ],
   "source": [
    "## get all records that have information on yearofauthorbirth and yearof authordeath\n",
    "mq.reset()\n",
    "mq.filter_year([-10000,10000])\n",
    "\n",
    "mq.df.head()\n"
   ]
  },
  {
   "cell_type": "markdown",
   "id": "59d3ed35-496e-439c-b2d4-b3514103e1c9",
   "metadata": {},
   "source": [
    "## Lets figure out what years a book could have been written\n",
    "Code below taken from the authors of the paper"
   ]
  },
  {
   "cell_type": "code",
   "execution_count": 33,
   "id": "1b01deb7-0079-419c-9614-2b631f4324cd",
   "metadata": {},
   "outputs": [],
   "source": [
    "hmin = 16 ## consider minimum age to write a book as 16\n",
    "list_tmin = np.array(mq.df['authoryearofbirth'])+hmin\n",
    "list_tmax = np.array(mq.df['authoryearofdeath'])"
   ]
  },
  {
   "cell_type": "code",
   "execution_count": 34,
   "id": "56f70c46-3d52-412b-b990-f47a5160f251",
   "metadata": {},
   "outputs": [
    {
     "name": "stdout",
     "output_type": "stream",
     "text": [
      "[-734. -733. -732. ... 2013. 2014. 2015.]\n"
     ]
    }
   ],
   "source": [
    "t1 = min(list_tmin)\n",
    "t2 = max(list_tmax)\n",
    "\n",
    "arr_t = np.arange(t1,t2+1,1)\n",
    "print(arr_t)\n",
    "arr_n = 0*arr_t\n",
    "for i_t,t in enumerate(arr_t):\n",
    "    n = len( np.where( (list_tmin<=t)&(list_tmax>=t) )[0] )\n",
    "    arr_n[i_t] = n"
   ]
  },
  {
   "cell_type": "code",
   "execution_count": 35,
   "id": "2afde6b8-183d-4d63-9244-73ed5219f0b3",
   "metadata": {},
   "outputs": [],
   "source": [
    "###########\n",
    "## Setup ##\n",
    "###########\n",
    "params = setup_graph_params.get_graph_params()\n",
    "plt.rcParams.update(params)"
   ]
  },
  {
   "cell_type": "code",
   "execution_count": 38,
   "id": "517b808e-cb3e-42f1-934a-d67a504c4b9f",
   "metadata": {},
   "outputs": [],
   "source": [
    "## note that there are some (few) books B.C.\n",
    "## --> could be added as inset\n",
    "\n",
    "x = arr_t\n",
    "y = arr_n\n",
    "\n",
    "\n",
    "# f=plt.figure(figsize = (10,20))\n",
    "f=plt.figure()\n",
    "ax=f.add_subplot(1,1,1)\n",
    "\n",
    "\n",
    "ax.plot(x,y,lw=1)\n",
    "ax.set_xlabel(r'$t$, year')\n",
    "ax.set_ylabel(r'$N$')\n",
    "ax.set_title('Possible Year of Writing')\n",
    "\n",
    "ax.set_xlim(1500,2015)\n",
    "# ax.set_ylim(1,10**5)\n",
    "\n",
    "# ax.set_xlim(10**0,10**6)\n",
    "# ax.set_xscale('log')\n",
    "# ax.set_yscale('log')\n",
    "# plt.subplots_adjust(left=0.1,bottom=0.4)\n",
    "\n",
    "path_save = os.path.join(gutenberg_info_fold,'figures')\n",
    "os.makedirs(path_save, exist_ok=True)\n",
    "fname_save = 'date_distribution.png'\n",
    "filename = os.path.join(path_save,fname_save)\n",
    "plt.savefig(filename)"
   ]
  },
  {
   "cell_type": "code",
   "execution_count": null,
   "id": "9ae09d30-af07-4020-ba5d-820ee995ddfe",
   "metadata": {},
   "outputs": [],
   "source": []
  },
  {
   "cell_type": "code",
   "execution_count": null,
   "id": "5496bc23-9412-49b6-88b5-7395256ee28b",
   "metadata": {},
   "outputs": [],
   "source": []
  }
 ],
 "metadata": {
  "kernelspec": {
   "display_name": "Python (school-env)",
   "language": "python",
   "name": "school-env"
  },
  "language_info": {
   "codemirror_mode": {
    "name": "ipython",
    "version": 3
   },
   "file_extension": ".py",
   "mimetype": "text/x-python",
   "name": "python",
   "nbconvert_exporter": "python",
   "pygments_lexer": "ipython3",
   "version": "3.12.9"
  }
 },
 "nbformat": 4,
 "nbformat_minor": 5
}
