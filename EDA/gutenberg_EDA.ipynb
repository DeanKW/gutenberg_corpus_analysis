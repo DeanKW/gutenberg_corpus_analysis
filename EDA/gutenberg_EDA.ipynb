{
 "cells": [
  {
   "cell_type": "code",
   "execution_count": 1,
   "id": "7f715e7a-181d-4a8f-8150-6bf449cf0c99",
   "metadata": {},
   "outputs": [],
   "source": [
    "import numpy as np\n",
    "import pandas as pd\n",
    "import os, sys\n",
    "import glob\n",
    "\n",
    "from collections import Counter\n",
    "import matplotlib.pyplot as plt"
   ]
  },
  {
   "cell_type": "code",
   "execution_count": 2,
   "id": "d79c18e3-a6dd-4ea8-b154-cc0edf7a7a88",
   "metadata": {},
   "outputs": [],
   "source": [
    "gutenberg_repo_path = '/home/dean/Documents/gitRepos/gutenberg_p'\n",
    "gutenberg_analysis_repo = '/home/dean/Documents/gitRepos/gutenberg-analysis'"
   ]
  },
  {
   "cell_type": "code",
   "execution_count": 3,
   "id": "aa80022b-8e3e-47e0-a6b9-d3f8de15e0b5",
   "metadata": {},
   "outputs": [],
   "source": [
    "## import internal helper functions\n",
    "analysis_src_dir = os.path.join(gutenberg_analysis_repo,'src')\n",
    "sys.path.append(analysis_src_dir)\n",
    "from data_io import get_book\n",
    "\n",
    "gutenberg_src_dir = os.path.join(gutenberg_repo_path,'src')\n",
    "sys.path.append(gutenberg_src_dir)\n",
    "\n",
    "from metaquery import meta_query\n",
    "from jsd import jsdalpha"
   ]
  },
  {
   "cell_type": "markdown",
   "id": "68986c78-9f8b-4154-bfae-f8b1e0681a44",
   "metadata": {},
   "source": [
    "# Metadata\n",
    "\n",
    "A short inftroduction to querying the metadata.\n",
    "For this we use the meta_query-class which is contained as part of the gutenberg-repo\n",
    "\n",
    "- mq.df gives a pandas dataframe"
   ]
  },
  {
   "cell_type": "code",
   "execution_count": 5,
   "id": "9e1f013a-f967-47cb-a3d6-87f43325d89f",
   "metadata": {},
   "outputs": [
    {
     "data": {
      "text/html": [
       "<div>\n",
       "<style scoped>\n",
       "    .dataframe tbody tr th:only-of-type {\n",
       "        vertical-align: middle;\n",
       "    }\n",
       "\n",
       "    .dataframe tbody tr th {\n",
       "        vertical-align: top;\n",
       "    }\n",
       "\n",
       "    .dataframe thead th {\n",
       "        text-align: right;\n",
       "    }\n",
       "</style>\n",
       "<table border=\"1\" class=\"dataframe\">\n",
       "  <thead>\n",
       "    <tr style=\"text-align: right;\">\n",
       "      <th></th>\n",
       "      <th>id</th>\n",
       "      <th>title</th>\n",
       "      <th>author</th>\n",
       "      <th>authoryearofbirth</th>\n",
       "      <th>authoryearofdeath</th>\n",
       "      <th>language</th>\n",
       "      <th>downloads</th>\n",
       "      <th>subjects</th>\n",
       "      <th>type</th>\n",
       "    </tr>\n",
       "  </thead>\n",
       "  <tbody>\n",
       "    <tr>\n",
       "      <th>0</th>\n",
       "      <td>PG10000</td>\n",
       "      <td>The Magna Carta</td>\n",
       "      <td>Anonymous</td>\n",
       "      <td>NaN</td>\n",
       "      <td>NaN</td>\n",
       "      <td>['en']</td>\n",
       "      <td>418</td>\n",
       "      <td>{'Magna Carta', 'Constitutional history -- Eng...</td>\n",
       "      <td>Text</td>\n",
       "    </tr>\n",
       "    <tr>\n",
       "      <th>1</th>\n",
       "      <td>PG10001</td>\n",
       "      <td>Apocolocyntosis</td>\n",
       "      <td>Seneca, Lucius Annaeus</td>\n",
       "      <td>NaN</td>\n",
       "      <td>65.0</td>\n",
       "      <td>['en']</td>\n",
       "      <td>767</td>\n",
       "      <td>{'Claudius, Emperor of Rome, 10 B.C.-54 A.D. -...</td>\n",
       "      <td>Text</td>\n",
       "    </tr>\n",
       "    <tr>\n",
       "      <th>2</th>\n",
       "      <td>PG10002</td>\n",
       "      <td>The House on the Borderland</td>\n",
       "      <td>Hodgson, William Hope</td>\n",
       "      <td>1877.0</td>\n",
       "      <td>1918.0</td>\n",
       "      <td>['en']</td>\n",
       "      <td>806</td>\n",
       "      <td>{'Science fiction'}</td>\n",
       "      <td>Text</td>\n",
       "    </tr>\n",
       "    <tr>\n",
       "      <th>3</th>\n",
       "      <td>PG10003</td>\n",
       "      <td>My First Years as a Frenchwoman, 1876-1879</td>\n",
       "      <td>Waddington, Mary King</td>\n",
       "      <td>1833.0</td>\n",
       "      <td>1923.0</td>\n",
       "      <td>['en']</td>\n",
       "      <td>94</td>\n",
       "      <td>{'France -- History -- Third Republic, 1870-19...</td>\n",
       "      <td>Text</td>\n",
       "    </tr>\n",
       "    <tr>\n",
       "      <th>4</th>\n",
       "      <td>PG10004</td>\n",
       "      <td>The Warriors</td>\n",
       "      <td>Lindsay, Anna Robertson Brown</td>\n",
       "      <td>1864.0</td>\n",
       "      <td>1948.0</td>\n",
       "      <td>['en']</td>\n",
       "      <td>65</td>\n",
       "      <td>{'Christianity'}</td>\n",
       "      <td>Text</td>\n",
       "    </tr>\n",
       "  </tbody>\n",
       "</table>\n",
       "</div>"
      ],
      "text/plain": [
       "        id                                       title  \\\n",
       "0  PG10000                             The Magna Carta   \n",
       "1  PG10001                             Apocolocyntosis   \n",
       "2  PG10002                 The House on the Borderland   \n",
       "3  PG10003  My First Years as a Frenchwoman, 1876-1879   \n",
       "4  PG10004                                The Warriors   \n",
       "\n",
       "                          author  authoryearofbirth  authoryearofdeath  \\\n",
       "0                      Anonymous                NaN                NaN   \n",
       "1         Seneca, Lucius Annaeus                NaN               65.0   \n",
       "2          Hodgson, William Hope             1877.0             1918.0   \n",
       "3          Waddington, Mary King             1833.0             1923.0   \n",
       "4  Lindsay, Anna Robertson Brown             1864.0             1948.0   \n",
       "\n",
       "  language  downloads                                           subjects  type  \n",
       "0   ['en']        418  {'Magna Carta', 'Constitutional history -- Eng...  Text  \n",
       "1   ['en']        767  {'Claudius, Emperor of Rome, 10 B.C.-54 A.D. -...  Text  \n",
       "2   ['en']        806                                {'Science fiction'}  Text  \n",
       "3   ['en']         94  {'France -- History -- Third Republic, 1870-19...  Text  \n",
       "4   ['en']         65                                   {'Christianity'}  Text  "
      ]
     },
     "execution_count": 5,
     "metadata": {},
     "output_type": "execute_result"
    }
   ],
   "source": [
    "mq = meta_query(path=os.path.join(gutenberg_repo_path,'metadata','metadata.csv'))\n",
    "\n",
    "\n",
    "mq.df.head()\n"
   ]
  },
  {
   "cell_type": "markdown",
   "id": "9ded2672-f788-423f-9d4a-27793c52c73a",
   "metadata": {},
   "source": [
    "## Let's add line counts"
   ]
  },
  {
   "cell_type": "code",
   "execution_count": 7,
   "id": "601fb691-56ee-41d9-a7a9-8ef4130bffac",
   "metadata": {},
   "outputs": [],
   "source": [
    "mq.get_line_counts()"
   ]
  },
  {
   "cell_type": "markdown",
   "id": "3e8733d6-71ad-427a-b95a-6002e5bae7a3",
   "metadata": {},
   "source": [
    "## Get only English books"
   ]
  },
  {
   "cell_type": "code",
   "execution_count": 8,
   "id": "fe01dda6-9bd9-4b4d-ba26-965541706dc9",
   "metadata": {},
   "outputs": [
    {
     "name": "stdout",
     "output_type": "stream",
     "text": [
      "Pre-filter shape: (19236, 9)\n",
      "Post-filter shape: (15008, 9)\n"
     ]
    }
   ],
   "source": [
    "print(f'Pre-filter shape: {mq.df.shape}')\n",
    "## we apply a filter\n",
    "mq.filter_lang('en',how='only')\n",
    "print(f'Post-filter shape: {mq.df.shape}')"
   ]
  },
  {
   "cell_type": "code",
   "execution_count": 9,
   "id": "4fe21644-b66a-4389-a575-f0ca50096a51",
   "metadata": {},
   "outputs": [
    {
     "data": {
      "text/plain": [
       "['PG10000',\n",
       " 'PG10001',\n",
       " 'PG10002',\n",
       " 'PG10003',\n",
       " 'PG10004',\n",
       " 'PG10005',\n",
       " 'PG10006',\n",
       " 'PG10007',\n",
       " 'PG10008',\n",
       " 'PG10009']"
      ]
     },
     "execution_count": 9,
     "metadata": {},
     "output_type": "execute_result"
    }
   ],
   "source": [
    "list_pg_ids = mq.get_ids()\n",
    "list_pg_ids[:10]"
   ]
  },
  {
   "cell_type": "markdown",
   "id": "62074435-343e-4836-8469-899b7a7a62f4",
   "metadata": {},
   "source": [
    "#### filter all books from a given author\n"
   ]
  },
  {
   "cell_type": "code",
   "execution_count": 10,
   "id": "d8e3c764-5993-4f60-a829-0cc5cb456b9c",
   "metadata": {},
   "outputs": [],
   "source": [
    "author = 'Shakespeare, William'"
   ]
  },
  {
   "cell_type": "code",
   "execution_count": 11,
   "id": "2866d11f-7a7f-4fc1-936d-35615f3e97f5",
   "metadata": {
    "collapsed": true,
    "jupyter": {
     "outputs_hidden": true
    }
   },
   "outputs": [
    {
     "name": "stderr",
     "output_type": "stream",
     "text": [
      "/home/dean/Documents/gitRepos/gutenberg_p/src/metaquery.py:127: FutureWarning: Downcasting behavior in `replace` is deprecated and will be removed in a future version. To retain the old behavior, explicitly call `result.infer_objects(copy=False)`. To opt-in to the future behavior, set `pd.set_option('future.no_silent_downcasting', True)`\n",
      "  s = self.df[ self.df['author'].str.contains(re.escape(s_sel),case=False).replace(np.nan,False)]\n"
     ]
    },
    {
     "data": {
      "text/html": [
       "<div>\n",
       "<style scoped>\n",
       "    .dataframe tbody tr th:only-of-type {\n",
       "        vertical-align: middle;\n",
       "    }\n",
       "\n",
       "    .dataframe tbody tr th {\n",
       "        vertical-align: top;\n",
       "    }\n",
       "\n",
       "    .dataframe thead th {\n",
       "        text-align: right;\n",
       "    }\n",
       "</style>\n",
       "<table border=\"1\" class=\"dataframe\">\n",
       "  <thead>\n",
       "    <tr style=\"text-align: right;\">\n",
       "      <th></th>\n",
       "      <th>id</th>\n",
       "      <th>title</th>\n",
       "      <th>author</th>\n",
       "      <th>authoryearofbirth</th>\n",
       "      <th>authoryearofdeath</th>\n",
       "      <th>language</th>\n",
       "      <th>downloads</th>\n",
       "      <th>subjects</th>\n",
       "      <th>type</th>\n",
       "    </tr>\n",
       "  </thead>\n",
       "  <tbody>\n",
       "    <tr>\n",
       "      <th>110</th>\n",
       "      <td>PG100</td>\n",
       "      <td>The Complete Works of William Shakespeare</td>\n",
       "      <td>Shakespeare, William</td>\n",
       "      <td>1564.0</td>\n",
       "      <td>1616.0</td>\n",
       "      <td>['en']</td>\n",
       "      <td>50807</td>\n",
       "      <td>{'English drama -- Early modern and Elizabetha...</td>\n",
       "      <td>Text</td>\n",
       "    </tr>\n",
       "    <tr>\n",
       "      <th>465</th>\n",
       "      <td>PG1041</td>\n",
       "      <td>Shakespeare's Sonnets</td>\n",
       "      <td>Shakespeare, William</td>\n",
       "      <td>1564.0</td>\n",
       "      <td>1616.0</td>\n",
       "      <td>['en']</td>\n",
       "      <td>1978</td>\n",
       "      <td>{'Sonnets, English', 'English poetry'}</td>\n",
       "      <td>Text</td>\n",
       "    </tr>\n",
       "    <tr>\n",
       "      <th>509</th>\n",
       "      <td>PG1045</td>\n",
       "      <td>Venus and Adonis</td>\n",
       "      <td>Shakespeare, William</td>\n",
       "      <td>1564.0</td>\n",
       "      <td>1616.0</td>\n",
       "      <td>['en']</td>\n",
       "      <td>424</td>\n",
       "      <td>{'Venus (Roman deity) -- Poetry', 'Adonis (Gre...</td>\n",
       "      <td>Text</td>\n",
       "    </tr>\n",
       "    <tr>\n",
       "      <th>672</th>\n",
       "      <td>PG10606</td>\n",
       "      <td>The Tragedie of Hamlet, Prince of Denmark: A S...</td>\n",
       "      <td>Shakespeare, William</td>\n",
       "      <td>1564.0</td>\n",
       "      <td>1616.0</td>\n",
       "      <td>['en']</td>\n",
       "      <td>142</td>\n",
       "      <td>{'Kings and rulers -- Succession -- Drama', \"M...</td>\n",
       "      <td>Text</td>\n",
       "    </tr>\n",
       "    <tr>\n",
       "      <th>1118</th>\n",
       "      <td>PG1100</td>\n",
       "      <td>The First Part of Henry the Sixth</td>\n",
       "      <td>Shakespeare, William</td>\n",
       "      <td>1564.0</td>\n",
       "      <td>1616.0</td>\n",
       "      <td>['en']</td>\n",
       "      <td>155</td>\n",
       "      <td>{'Great Britain -- History -- Henry VI, 1422-1...</td>\n",
       "      <td>Text</td>\n",
       "    </tr>\n",
       "    <tr>\n",
       "      <th>...</th>\n",
       "      <td>...</td>\n",
       "      <td>...</td>\n",
       "      <td>...</td>\n",
       "      <td>...</td>\n",
       "      <td>...</td>\n",
       "      <td>...</td>\n",
       "      <td>...</td>\n",
       "      <td>...</td>\n",
       "      <td>...</td>\n",
       "    </tr>\n",
       "    <tr>\n",
       "      <th>40807</th>\n",
       "      <td>PG46768</td>\n",
       "      <td>Julius Cæsar</td>\n",
       "      <td>Shakespeare, William</td>\n",
       "      <td>1564.0</td>\n",
       "      <td>1616.0</td>\n",
       "      <td>['la']</td>\n",
       "      <td>270</td>\n",
       "      <td>{'Assassins -- Drama', 'Tragedies', 'Caesar, J...</td>\n",
       "      <td>Text</td>\n",
       "    </tr>\n",
       "    <tr>\n",
       "      <th>41641</th>\n",
       "      <td>PG47518</td>\n",
       "      <td>Shakespeare's Comedy of The Tempest</td>\n",
       "      <td>Shakespeare, William</td>\n",
       "      <td>1564.0</td>\n",
       "      <td>1616.0</td>\n",
       "      <td>['en']</td>\n",
       "      <td>148</td>\n",
       "      <td>{'Shipwreck victims -- Drama', 'Islands -- Dra...</td>\n",
       "      <td>Text</td>\n",
       "    </tr>\n",
       "    <tr>\n",
       "      <th>41860</th>\n",
       "      <td>PG47715</td>\n",
       "      <td>The Works of William Shakespeare [Cambridge Ed...</td>\n",
       "      <td>Shakespeare, William</td>\n",
       "      <td>1564.0</td>\n",
       "      <td>1616.0</td>\n",
       "      <td>['en']</td>\n",
       "      <td>177</td>\n",
       "      <td>{'English drama'}</td>\n",
       "      <td>Text</td>\n",
       "    </tr>\n",
       "    <tr>\n",
       "      <th>42080</th>\n",
       "      <td>PG47913</td>\n",
       "      <td>Makbeto</td>\n",
       "      <td>Shakespeare, William</td>\n",
       "      <td>1564.0</td>\n",
       "      <td>1616.0</td>\n",
       "      <td>['eo']</td>\n",
       "      <td>126</td>\n",
       "      <td>{'Macbeth, King of Scotland, active 11th centu...</td>\n",
       "      <td>Text</td>\n",
       "    </tr>\n",
       "    <tr>\n",
       "      <th>42132</th>\n",
       "      <td>PG47960</td>\n",
       "      <td>Shakespeare's Tragedy of Romeo and Juliet</td>\n",
       "      <td>Shakespeare, William</td>\n",
       "      <td>1564.0</td>\n",
       "      <td>1616.0</td>\n",
       "      <td>['en']</td>\n",
       "      <td>664</td>\n",
       "      <td>{'Youth -- Drama', 'Tragedies', 'Vendetta -- D...</td>\n",
       "      <td>Text</td>\n",
       "    </tr>\n",
       "  </tbody>\n",
       "</table>\n",
       "<p>130 rows × 9 columns</p>\n",
       "</div>"
      ],
      "text/plain": [
       "            id                                              title  \\\n",
       "110      PG100          The Complete Works of William Shakespeare   \n",
       "465     PG1041                              Shakespeare's Sonnets   \n",
       "509     PG1045                                   Venus and Adonis   \n",
       "672    PG10606  The Tragedie of Hamlet, Prince of Denmark: A S...   \n",
       "1118    PG1100                  The First Part of Henry the Sixth   \n",
       "...        ...                                                ...   \n",
       "40807  PG46768                                       Julius Cæsar   \n",
       "41641  PG47518                Shakespeare's Comedy of The Tempest   \n",
       "41860  PG47715  The Works of William Shakespeare [Cambridge Ed...   \n",
       "42080  PG47913                                            Makbeto   \n",
       "42132  PG47960          Shakespeare's Tragedy of Romeo and Juliet   \n",
       "\n",
       "                     author  authoryearofbirth  authoryearofdeath language  \\\n",
       "110    Shakespeare, William             1564.0             1616.0   ['en']   \n",
       "465    Shakespeare, William             1564.0             1616.0   ['en']   \n",
       "509    Shakespeare, William             1564.0             1616.0   ['en']   \n",
       "672    Shakespeare, William             1564.0             1616.0   ['en']   \n",
       "1118   Shakespeare, William             1564.0             1616.0   ['en']   \n",
       "...                     ...                ...                ...      ...   \n",
       "40807  Shakespeare, William             1564.0             1616.0   ['la']   \n",
       "41641  Shakespeare, William             1564.0             1616.0   ['en']   \n",
       "41860  Shakespeare, William             1564.0             1616.0   ['en']   \n",
       "42080  Shakespeare, William             1564.0             1616.0   ['eo']   \n",
       "42132  Shakespeare, William             1564.0             1616.0   ['en']   \n",
       "\n",
       "       downloads                                           subjects  type  \n",
       "110        50807  {'English drama -- Early modern and Elizabetha...  Text  \n",
       "465         1978             {'Sonnets, English', 'English poetry'}  Text  \n",
       "509          424  {'Venus (Roman deity) -- Poetry', 'Adonis (Gre...  Text  \n",
       "672          142  {'Kings and rulers -- Succession -- Drama', \"M...  Text  \n",
       "1118         155  {'Great Britain -- History -- Henry VI, 1422-1...  Text  \n",
       "...          ...                                                ...   ...  \n",
       "40807        270  {'Assassins -- Drama', 'Tragedies', 'Caesar, J...  Text  \n",
       "41641        148  {'Shipwreck victims -- Drama', 'Islands -- Dra...  Text  \n",
       "41860        177                                  {'English drama'}  Text  \n",
       "42080        126  {'Macbeth, King of Scotland, active 11th centu...  Text  \n",
       "42132        664  {'Youth -- Drama', 'Tragedies', 'Vendetta -- D...  Text  \n",
       "\n",
       "[130 rows x 9 columns]"
      ]
     },
     "execution_count": 11,
     "metadata": {},
     "output_type": "execute_result"
    }
   ],
   "source": [
    "## first we have to reset the previous filter\n",
    "mq.reset()\n",
    "mq.filter_author(author)\n",
    "mq.df"
   ]
  },
  {
   "cell_type": "markdown",
   "id": "9438b205-12c6-46f0-8b5c-dae1f0e267da",
   "metadata": {},
   "source": [
    "# Bookshelves\n",
    "\n",
    "The bookshelves data is organized as a dataframe\n",
    "\n",
    "- rows are books (i)\n",
    "- columns are bookshelves (j)\n",
    "- if B[i,j] = True --> book i belongs to bookshelf j\n",
    "\n",
    "Note that only a fraction of books are assigned to any of the bookshelves"
   ]
  },
  {
   "cell_type": "code",
   "execution_count": null,
   "id": "0dad29ce-fe94-44b8-8984-b5d746bd8bba",
   "metadata": {},
   "outputs": [],
   "source": [
    "df_bookshelves_cat = pd.read_pickle(os.path.join(gutenberg_repo_path,'metadata','bookshelves_categories_dict.pkl'))"
   ]
  },
  {
   "cell_type": "code",
   "execution_count": null,
   "id": "f1e3aae7-8bb3-4673-9f89-a1fbec792478",
   "metadata": {},
   "outputs": [],
   "source": [
    "df_bookshelves_ebook = pd.read_pickle(os.path.join(gutenberg_repo_path,'metadata','bookshelves_ebooks_dict.pkl'))"
   ]
  },
  {
   "cell_type": "code",
   "execution_count": null,
   "id": "5e9e2005-54c3-4776-9aba-474a47311af1",
   "metadata": {},
   "outputs": [],
   "source": [
    "df_bookshelves_cat"
   ]
  },
  {
   "cell_type": "code",
   "execution_count": null,
   "id": "92bf146d-4338-4373-882e-8e2d13401cb9",
   "metadata": {},
   "outputs": [],
   "source": [
    "df_bookshelves_ebook"
   ]
  },
  {
   "cell_type": "code",
   "execution_count": null,
   "id": "b7f03f7c-2262-46e3-917d-fc6682520590",
   "metadata": {},
   "outputs": [],
   "source": []
  }
 ],
 "metadata": {
  "kernelspec": {
   "display_name": "school-env",
   "language": "python",
   "name": "school-env"
  },
  "language_info": {
   "codemirror_mode": {
    "name": "ipython",
    "version": 3
   },
   "file_extension": ".py",
   "mimetype": "text/x-python",
   "name": "python",
   "nbconvert_exporter": "python",
   "pygments_lexer": "ipython3",
   "version": "3.13.2"
  }
 },
 "nbformat": 4,
 "nbformat_minor": 5
}
