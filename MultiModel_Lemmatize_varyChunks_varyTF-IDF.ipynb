{
 "cells": [
  {
   "cell_type": "markdown",
   "id": "a56599ba-8b80-4ae4-baed-c5f5ce7ad919",
   "metadata": {},
   "source": [
    "# Compares different chunking variations as well as different TF-IDF Vectorization parameters, using lemmatized text\n",
    "\n",
    "Loops through all combinations of:\n",
    "\n",
    "**Num Chunks**: 10000, 15000, 20000, 5000, 40000, 80000,\n",
    "\n",
    "**Chunk Size**: (1,1), (1,2), (1,3), (2, 2), (2, 3), (3, 3)]\n",
    "\n",
    "**TF-IDF Max Features**: 5000, 10000, 15000, 20000\n",
    "\n",
    "**TF-IDF N-Grams**: (1,1), (1,2), (1,3)]\n"
   ]
  },
  {
   "cell_type": "code",
   "execution_count": 2,
   "id": "99a2f49a-fdd3-41a5-b9c9-a111ac1c126d",
   "metadata": {},
   "outputs": [],
   "source": [
    "import os\n",
    "import time\n",
    "import tqdm\n",
    "import random\n",
    "import itertools\n",
    "\n",
    "from tqdm.contrib.concurrent import process_map\n",
    "\n",
    "\n",
    "import pandas as pd\n",
    "import numpy as np\n",
    "from nltk.tokenize import word_tokenize\n",
    "from nltk import pos_tag\n",
    "from nltk.corpus import stopwords\n",
    "from nltk.stem import WordNetLemmatizer\n",
    "from nltk.stem import PorterStemmer\n",
    "from sklearn.preprocessing import LabelEncoder\n",
    "from collections import defaultdict\n",
    "from nltk.corpus import wordnet as wn\n",
    "from sklearn.feature_extraction.text import TfidfVectorizer\n",
    "from sklearn import model_selection, naive_bayes, svm, neural_network\n",
    "from sklearn.metrics import (\n",
    "    accuracy_score, f1_score, precision_score, recall_score,\n",
    "    confusion_matrix, classification_report, make_scorer)\n",
    "import multiprocessing as mp"
   ]
  },
  {
   "cell_type": "code",
   "execution_count": 3,
   "id": "c924525d-c6a6-403f-8db8-18484651cd41",
   "metadata": {},
   "outputs": [],
   "source": [
    "repos_path = os.path.abspath(os.path.join(os.getcwd(), os.pardir))"
   ]
  },
  {
   "cell_type": "code",
   "execution_count": 6,
   "id": "cd602c87-cec2-40b9-8f87-9e2452677907",
   "metadata": {},
   "outputs": [],
   "source": [
    "gutenberg_repo_path = os.path.join(repos_path, 'gutenberg')\n",
    "gutenberg_analysis_repo = os.path.join(repos_path, 'gutenberg-analysis')\n",
    "\n",
    "src_dir = os.path.join(gutenberg_analysis_repo,'src')\n",
    "sys.path.append(src_dir)\n",
    "from data_io import get_book\n",
    "\n",
    "\n",
    "gutenberg_src_dir = os.path.join(gutenberg_repo_path,'src')\n",
    "sys.path.append(gutenberg_src_dir)\n",
    "\n",
    "from metaquery import meta_query\n",
    "\n",
    "gca_path = os.path.abspath(os.getcwd())\n",
    "sys.path.append(gca_path)\n",
    "import misc_utils.dataset_filtering as dataset_filtering"
   ]
  },
  {
   "cell_type": "code",
   "execution_count": 8,
   "id": "d90f60c0-09d0-4765-ba70-dd26034c0579",
   "metadata": {},
   "outputs": [],
   "source": [
    "text_fold=os.path.join(gutenberg_repo_path, 'data', 'text')"
   ]
  },
  {
   "cell_type": "code",
   "execution_count": 10,
   "id": "9fd0659c-f138-4831-8d41-b8e368c72d9e",
   "metadata": {},
   "outputs": [],
   "source": [
    "dataset='nikita_dataset'"
   ]
  },
  {
   "cell_type": "code",
   "execution_count": 12,
   "id": "9df13c91-756a-487b-8518-3325308aaba0",
   "metadata": {},
   "outputs": [],
   "source": [
    "train_csv = os.path.join(gca_path, dataset, 'final_train.csv')\n",
    "test_csv = os.path.join(gca_path, dataset, 'final_test.csv')\n",
    "val_csv = os.path.join(gca_path, dataset, 'final_val.csv')\n",
    "\n",
    "pg_catalog_filepath=os.path.join(gutenberg_repo_path, 'metadata', 'pg_catalog.csv')"
   ]
  },
  {
   "cell_type": "code",
   "execution_count": 14,
   "id": "aeb82ad9-9e70-4aa1-808c-810e980caff3",
   "metadata": {},
   "outputs": [
    {
     "data": {
      "text/html": [
       "<div>\n",
       "<style scoped>\n",
       "    .dataframe tbody tr th:only-of-type {\n",
       "        vertical-align: middle;\n",
       "    }\n",
       "\n",
       "    .dataframe tbody tr th {\n",
       "        vertical-align: top;\n",
       "    }\n",
       "\n",
       "    .dataframe thead th {\n",
       "        text-align: right;\n",
       "    }\n",
       "</style>\n",
       "<table border=\"1\" class=\"dataframe\">\n",
       "  <thead>\n",
       "    <tr style=\"text-align: right;\">\n",
       "      <th></th>\n",
       "      <th>id</th>\n",
       "      <th>title</th>\n",
       "      <th>author</th>\n",
       "      <th>authoryearofbirth</th>\n",
       "      <th>authoryearofdeath</th>\n",
       "      <th>language</th>\n",
       "      <th>downloads</th>\n",
       "      <th>subjects</th>\n",
       "    </tr>\n",
       "  </thead>\n",
       "  <tbody>\n",
       "    <tr>\n",
       "      <th>2439</th>\n",
       "      <td>PG12810</td>\n",
       "      <td>Uncle Sam's Boys with Pershing's Troops: Or, D...</td>\n",
       "      <td>Hancock, H. Irving (Harrie Irving)</td>\n",
       "      <td>1868.0</td>\n",
       "      <td>1922.0</td>\n",
       "      <td>['en']</td>\n",
       "      <td>78</td>\n",
       "      <td>{'World War, 1914-1918 -- Juvenile fiction', '...</td>\n",
       "    </tr>\n",
       "    <tr>\n",
       "      <th>2446</th>\n",
       "      <td>PG12819</td>\n",
       "      <td>Dick Prescott's Second Year at West Point: Or,...</td>\n",
       "      <td>Hancock, H. Irving (Harrie Irving)</td>\n",
       "      <td>1868.0</td>\n",
       "      <td>1922.0</td>\n",
       "      <td>['en']</td>\n",
       "      <td>94</td>\n",
       "      <td>{'United States Military Academy -- Juvenile f...</td>\n",
       "    </tr>\n",
       "    <tr>\n",
       "      <th>25920</th>\n",
       "      <td>PG40605</td>\n",
       "      <td>The Motor Boat Club at Nantucket; or, The Myst...</td>\n",
       "      <td>Hancock, H. Irving (Harrie Irving)</td>\n",
       "      <td>1868.0</td>\n",
       "      <td>1922.0</td>\n",
       "      <td>['en']</td>\n",
       "      <td>189</td>\n",
       "      <td>{'Motorboats -- Juvenile fiction', 'Nantucket ...</td>\n",
       "    </tr>\n",
       "    <tr>\n",
       "      <th>55435</th>\n",
       "      <td>PG8153</td>\n",
       "      <td>The Young Engineers in Arizona; or, Laying Tra...</td>\n",
       "      <td>Hancock, H. Irving (Harrie Irving)</td>\n",
       "      <td>1868.0</td>\n",
       "      <td>1922.0</td>\n",
       "      <td>['en']</td>\n",
       "      <td>190</td>\n",
       "      <td>{'Civil engineers -- Fiction', 'Arizona -- Fic...</td>\n",
       "    </tr>\n",
       "    <tr>\n",
       "      <th>32899</th>\n",
       "      <td>PG48863</td>\n",
       "      <td>The Motor Boat Club off Long Island; or, A Dar...</td>\n",
       "      <td>Hancock, H. Irving (Harrie Irving)</td>\n",
       "      <td>1868.0</td>\n",
       "      <td>1922.0</td>\n",
       "      <td>['en']</td>\n",
       "      <td>85</td>\n",
       "      <td>{'Motorboats -- Juvenile fiction', 'Long Islan...</td>\n",
       "    </tr>\n",
       "  </tbody>\n",
       "</table>\n",
       "</div>"
      ],
      "text/plain": [
       "            id                                              title  \\\n",
       "2439   PG12810  Uncle Sam's Boys with Pershing's Troops: Or, D...   \n",
       "2446   PG12819  Dick Prescott's Second Year at West Point: Or,...   \n",
       "25920  PG40605  The Motor Boat Club at Nantucket; or, The Myst...   \n",
       "55435   PG8153  The Young Engineers in Arizona; or, Laying Tra...   \n",
       "32899  PG48863  The Motor Boat Club off Long Island; or, A Dar...   \n",
       "\n",
       "                                   author  authoryearofbirth  \\\n",
       "2439   Hancock, H. Irving (Harrie Irving)             1868.0   \n",
       "2446   Hancock, H. Irving (Harrie Irving)             1868.0   \n",
       "25920  Hancock, H. Irving (Harrie Irving)             1868.0   \n",
       "55435  Hancock, H. Irving (Harrie Irving)             1868.0   \n",
       "32899  Hancock, H. Irving (Harrie Irving)             1868.0   \n",
       "\n",
       "       authoryearofdeath language  downloads  \\\n",
       "2439              1922.0   ['en']         78   \n",
       "2446              1922.0   ['en']         94   \n",
       "25920             1922.0   ['en']        189   \n",
       "55435             1922.0   ['en']        190   \n",
       "32899             1922.0   ['en']         85   \n",
       "\n",
       "                                                subjects  \n",
       "2439   {'World War, 1914-1918 -- Juvenile fiction', '...  \n",
       "2446   {'United States Military Academy -- Juvenile f...  \n",
       "25920  {'Motorboats -- Juvenile fiction', 'Nantucket ...  \n",
       "55435  {'Civil engineers -- Fiction', 'Arizona -- Fic...  \n",
       "32899  {'Motorboats -- Juvenile fiction', 'Long Islan...  "
      ]
     },
     "execution_count": 14,
     "metadata": {},
     "output_type": "execute_result"
    }
   ],
   "source": [
    "train_df = pd.read_csv(train_csv, index_col='Unnamed: 0')\n",
    "test_df = pd.read_csv(test_csv, index_col='Unnamed: 0')\n",
    "val_df = pd.read_csv(val_csv, index_col='Unnamed: 0')\n",
    "\n",
    "train_df.head()"
   ]
  },
  {
   "cell_type": "code",
   "execution_count": 16,
   "id": "76f1d883-c41a-48c8-b52a-ba765b8a4709",
   "metadata": {},
   "outputs": [],
   "source": [
    "subj = train_df['subjects'].replace('set()',np.nan)\n",
    "subj_docs = []\n",
    "for h in subj:\n",
    "    try:\n",
    "        h = h.strip(\"{}\")[1:-1]\n",
    "    except AttributeError:\n",
    "        subj_docs.append(h)\n",
    "        continue\n",
    "    h = h.replace(' -- ', '-')\n",
    "    h = h.replace(\"', '\",\"_\")\n",
    "    h = h.split('_')\n",
    "    h = [item.replace(' ','').replace(',', ' ') for item in h]\n",
    "    h = ' '.join(h)\n",
    "    subj_docs.append(h)"
   ]
  },
  {
   "cell_type": "code",
   "execution_count": 18,
   "id": "75e8cbaf-aac4-497b-b325-88fadd9668a6",
   "metadata": {},
   "outputs": [],
   "source": [
    "train_df['subj_str']=subj_docs"
   ]
  },
  {
   "cell_type": "code",
   "execution_count": 20,
   "id": "a8e9b802-185d-400a-9c81-861f4a602509",
   "metadata": {},
   "outputs": [],
   "source": [
    "train_df['text'] = train_df['id'].apply(lambda x: get_book(x, path_gutenberg=gutenberg_repo_path,level='text'))\n",
    "test_df['text'] = test_df['id'].apply(lambda x: get_book(x, path_gutenberg=gutenberg_repo_path,level='text'))\n",
    "val_df['text'] = val_df['id'].apply(lambda x: get_book(x, path_gutenberg=gutenberg_repo_path,level='text'))"
   ]
  },
  {
   "cell_type": "code",
   "execution_count": null,
   "id": "884c4d9b-0925-41e3-9124-c06fcad55f8a",
   "metadata": {},
   "outputs": [],
   "source": [
    "# Define a function to apply the word, line and token counts\n",
    "def enrich_dataframe(df):\n",
    "    count_path = os.path.join(gutenberg_repo_path, 'data', 'counts')\n",
    "    text_path = os.path.join(gutenberg_repo_path, 'data', 'text')\n",
    "    token_path = os.path.join(gutenberg_repo_path, 'data', 'tokens')\n",
    "\n",
    "    df['word_count'] = df['id'].apply(lambda pid: dataset_filtering.get_word_count(pid, count_path))\n",
    "    df['unique_word_count'] = df['id'].apply(lambda pid: dataset_filtering.get_unique_word_count(pid, count_path))\n",
    "    df['line_count'] = df['id'].apply(lambda pid: dataset_filtering.get_line_count(pid, text_path))\n",
    "    df['token_count'] = df['id'].apply(lambda pid: dataset_filtering.get_token_count(pid, token_path))\n",
    "\n",
    "    return df\n",
    "\n",
    "train_df = enrich_dataframe(train_df)"
   ]
  },
  {
   "cell_type": "code",
   "execution_count": null,
   "id": "3b832cc8-01a9-452e-aae9-a0c3e0129e29",
   "metadata": {},
   "outputs": [],
   "source": [
    "train_df['word_count'].describe()"
   ]
  },
  {
   "cell_type": "code",
   "execution_count": null,
   "id": "8fa2974d-976d-4612-89c9-a32f9a159704",
   "metadata": {},
   "outputs": [],
   "source": []
  },
  {
   "cell_type": "code",
   "execution_count": 21,
   "id": "55835d2b-b3fc-4924-8843-461890af1aba",
   "metadata": {},
   "outputs": [],
   "source": [
    "def skip_start_and_end(text, num_chars=100):\n",
    "    text = text.split(' ')\n",
    "    text = text[num_chars:-num_chars]\n",
    "    return ' '.join(text)\n",
    "# \n",
    "train_df['text'] = train_df['text'].apply(skip_start_and_end)\n",
    "test_df['text'] = test_df['text'].apply(skip_start_and_end)\n",
    "val_df['text'] = val_df['text'].apply(skip_start_and_end)\n"
   ]
  },
  {
   "cell_type": "code",
   "execution_count": 23,
   "id": "e818d368-0e63-4173-8143-3300c690f882",
   "metadata": {},
   "outputs": [],
   "source": [
    "def make_random_chunks(text, num_chunks=10, chunk_size=1000, overlap=False):\n",
    "    chunk = []\n",
    "    words = text.split(' ')\n",
    "\n",
    "    if num_chunks * chunk_size > len(words):\n",
    "        return text\n",
    "    for i in range(num_chunks):\n",
    "        new_words = []\n",
    "        num_words = len(words)\n",
    "        if chunk_size > num_words:\n",
    "            chunk = chunk + words\n",
    "            words = []\n",
    "            return ' '.join(chunk)\n",
    "        start = random.randint(0, num_words)\n",
    "        chunk = [*chunk,  *words[start:start+chunk_size]]\n",
    "        #print(chunk)\n",
    "        if start == 0:\n",
    "            words = words[chunk_size:]\n",
    "        elif start == num_words - chunk_size:\n",
    "            words = words[0:start]\n",
    "        else:\n",
    "            words = words[0:start] + words[start+chunk_size:]\n",
    "    return ' '.join(chunk)"
   ]
  },
  {
   "cell_type": "code",
   "execution_count": null,
   "id": "39401de8-aaa8-4b5d-91f0-bcc28097f7c3",
   "metadata": {},
   "outputs": [],
   "source": []
  },
  {
   "cell_type": "code",
   "execution_count": 27,
   "id": "e95d8c4b-22ed-4321-9f6d-6f25c28e4ed4",
   "metadata": {},
   "outputs": [],
   "source": [
    "def lemmatize_that_thang(tokenized_text):\n",
    "    tag_map = defaultdict(lambda : wn.NOUN)\n",
    "    tag_map['J'] = wn.ADJ\n",
    "    tag_map['V'] = wn.VERB\n",
    "    tag_map['R'] = wn.ADV    \n",
    "    \n",
    "    # Declaring Empty List to store the words that follow the rules for this step\n",
    "    final_words = []\n",
    "    # Initializing WordNetLemmatizer()\n",
    "    word_lemmatized = WordNetLemmatizer()\n",
    "    # pos_tag function below will provide the 'tag' i.e if the word is Noun(N) or Verb(V) or something else.\n",
    "    for word, tag in pos_tag(tokenized_text):\n",
    "        # Below condition is to check for Stop words and consider only alphabets\n",
    "        if word not in stopwords.words('english') and word.isalpha():\n",
    "            word_final = word_lemmatized.lemmatize(word,tag_map[tag[0]])\n",
    "            final_words.append(word_final)\n",
    "    return str(final_words)\n",
    "    # The final processed set of words for each iteration will be stored in 'text_final'"
   ]
  },
  {
   "cell_type": "code",
   "execution_count": 31,
   "id": "1687df21-1296-4dd5-8aae-62d0640b1676",
   "metadata": {},
   "outputs": [],
   "source": [
    "def test_one_chunk( num_chunks, chunk_size, x_col='text', tokenized_col='tokenized'):\n",
    "    print(f'Starting {num_chunks} chunks of size {chunk_size}')\n",
    "    print('making random chunks')\n",
    "    train_df['chunks'] = train_df['text'].apply(lambda x: make_random_chunks(x, num_chunks=num_chunks, chunk_size = chunk_size, overlap=False))\n",
    "    test_df['chunks'] = test_df['text'].apply(lambda x: make_random_chunks(x, num_chunks=num_chunks, chunk_size = chunk_size, overlap=False))\n",
    "    val_df['chunks'] = val_df['text'].apply(lambda x: make_random_chunks(x, num_chunks=num_chunks, chunk_size = chunk_size, overlap=False))\n",
    "    print('finished making random chunks')\n",
    "    print('beginning tokenization')\n",
    "\n",
    "    tokenized = process_map(word_tokenize, train_df['chunks'], max_workers=11, chunksize=5)\n",
    "    train_df[tokenized_col] = tokenized\n",
    "    tokenized = process_map(word_tokenize, val_df['chunks'], max_workers=11, chunksize=5)\n",
    "    val_df[tokenized_col] = tokenized\n",
    "    tokenized = process_map(word_tokenize, test_df['chunks'], max_workers=11, chunksize=5)\n",
    "    test_df[tokenized_col] = tokenized\n",
    "    print('finished tokenization')\n",
    "\n",
    "    print('beginning lemmatization')\n",
    "\n",
    "    lemmatized = process_map(lemmatize_that_thang, train_df['tokenized'], max_workers=11, chunksize=5)\n",
    "    train_df['lemmatized'] = lemmatized\n",
    "\n",
    "    lemmatized = process_map(lemmatize_that_thang, val_df['tokenized'], max_workers=11, chunksize=5)\n",
    "    val_df['lemmatized'] = lemmatized\n",
    "\n",
    "    lemmatized = process_map(lemmatize_that_thang, test_df['tokenized'], max_workers=11, chunksize=5)\n",
    "    test_df['lemmatized'] = lemmatized\n",
    "\n",
    "    print('finished lemmatization')\n",
    "    param_grid = {\n",
    "    'tfidf__max_features': [5000, 10000, 15000, 20000],#, 40000],\n",
    "    'tfidf__ngram_range': [(1, 1), (1, 2), (1,3)]\n",
    "    }\n",
    "    iteration_times = []\n",
    "    # Create all combinations of parameters\n",
    "    param_combos = list(itertools.product(param_grid['tfidf__max_features'],\n",
    "                            param_grid['tfidf__ngram_range']))\n",
    "    outfold='/home/dean/Documents/gitRepos/gutenberg_corpus_analysis/SVM/chunk_results'\n",
    "    for max_feat, ngram_range in param_combos:\n",
    "        test_one_tfidf_combo(max_feat, ngram_range, outfold, f'numChunk{num_chunks}_chSize{chunk_size}')\n",
    "        \n",
    "\n",
    "\n"
   ]
  },
  {
   "cell_type": "code",
   "execution_count": 33,
   "id": "dab290ac-4ee4-4364-aeee-317508bd59f8",
   "metadata": {},
   "outputs": [],
   "source": [
    "def stem_that_thang(tokenized_text):\n",
    "    # Declaring Empty List to store the words that follow the rules for this step\n",
    "    final_words = []\n",
    "    # Initializing PorterStemmer()\n",
    "    ps = PorterStemmer()\n",
    "    # pos_tag function below will provide the 'tag' i.e if the word is Noun(N) or Verb(V) or something else.\n",
    "    for word in tokenized_text:\n",
    "        if word not in stopwords.words('english'):\n",
    "            word_final = ps.stem(word)\n",
    "            final_words.append(word_final)\n",
    "\n",
    "    return str(final_words)\n",
    "    # The final processed set of words for each iteration will be stored in 'text_final'"
   ]
  },
  {
   "cell_type": "code",
   "execution_count": 35,
   "id": "c5fb5fba-2b33-40e7-9157-7c53e47a4b83",
   "metadata": {},
   "outputs": [],
   "source": [
    "def test_one_tfidf_combo(max_feat, ngram_range, outfold, other_desc):\n",
    "    Tfidf_vect = TfidfVectorizer(\n",
    "    stop_words='english', # Removes a lot of common english words like it, and, that, is etc. Uses predifined scikit list of common english words.\n",
    "    sublinear_tf=True, # Uses logarithmic word frequency weighting, reducing the weight of extremely frequent terms & helps prevent domination by larger text files\n",
    "    max_features=max_feat, # Consideration for both overfitting and computational requirements.\n",
    "    ngram_range=ngram_range\n",
    "    )\n",
    "\n",
    "    x_col='chunks'\n",
    "    \n",
    "    print('performing tfidf vectorization')\n",
    "    Tfidf_vect.fit_transform(train_df[x_col])\n",
    "\n",
    "    Train_X, Train_Y = train_df[x_col], train_df['author']\n",
    "    Test_X, Test_Y = test_df[x_col], test_df['author']\n",
    "    Val_X, Val_Y = val_df[x_col], val_df['author']\n",
    "    \n",
    "    Train_X_Tfidf = Tfidf_vect.transform(Train_X)\n",
    "    Test_X_Tfidf = Tfidf_vect.transform(Test_X)\n",
    "    Val_X_Tfidf = Tfidf_vect.transform(Val_X)\n",
    "    preproc_desc = f'tfidf_feat{max_feat}_ngram{ngram_range[0]}-{ngram_range[1]}'\n",
    "    outfile=os.path.join(outfold, f'results_{other_desc}_{preproc_desc}.csv')\n",
    "    train_those_models(Train_X_Tfidf, Train_Y, Val_X_Tfidf, Val_Y, Test_X_Tfidf, Test_Y, \n",
    "                                        outfile, preproc_desc)\n"
   ]
  },
  {
   "cell_type": "markdown",
   "id": "08e30cd4-acc3-4cf5-b66c-21abadbb0dd7",
   "metadata": {},
   "source": [
    "# Lemmatization, English stop words"
   ]
  },
  {
   "cell_type": "code",
   "execution_count": null,
   "id": "eeb0f61a-56cb-4aeb-8d7c-2b630cb8984e",
   "metadata": {},
   "outputs": [],
   "source": []
  },
  {
   "cell_type": "code",
   "execution_count": 39,
   "id": "c22f5467-8618-4b47-a5e1-c676878f9dd6",
   "metadata": {
    "scrolled": true
   },
   "outputs": [],
   "source": [
    "#print(Tfidf_vect.vocabulary_)"
   ]
  },
  {
   "cell_type": "code",
   "execution_count": 41,
   "id": "0dda7617-0a96-47f0-b648-4dfab9dded78",
   "metadata": {},
   "outputs": [],
   "source": [
    "def evaluate_model(model, X_train, y_train, X_val, y_val, X_test, y_test, model_description, preproc_desc, verbose=False):\n",
    "    # Train and predict\n",
    "    start = time.time()\n",
    "    model.fit(X_train, y_train)\n",
    "    y_train_pred = model.predict(X_train)\n",
    "    y_val_pred = model.predict(X_val)\n",
    "    y_test_pred = model.predict(X_test)\n",
    "    end = time.time()\n",
    "\n",
    "    print(f'Training and predicting took {end-start} seconds = {(end-start)/60} minutes')\n",
    "\n",
    "    results={}\n",
    "    for label, y_truth, y_pred in [('train', y_train, y_train_pred), \n",
    "                            ('validation', y_val, y_val_pred),\n",
    "                            ('test', y_test, y_test_pred)]:\n",
    "        # Metrics (set zero_division=0 to silence warnings)\n",
    "        acc = accuracy_score(y_truth, y_pred)\n",
    "        f1 = f1_score(y_truth, y_pred, average='weighted', zero_division=0)\n",
    "        precision = precision_score(y_truth, y_pred, average='weighted', zero_division=0)\n",
    "        recall = recall_score(y_truth, y_pred, average='weighted', zero_division=0)\n",
    "\n",
    "        result_dict = {'accuracy': acc,\n",
    "                       'precision': precision,\n",
    "                       'recall' : recall,\n",
    "                       'f1' : f1}\n",
    "        results[label] = result_dict\n",
    "        \n",
    "        \n",
    "    # Print performance\n",
    "    if verbose:\n",
    "        print(f\"Model: {model.__class__.__name__}\")\n",
    "        print(f'Description: {model_description}')\n",
    "        print(f'Pre-processing: {preproc_desc}')\n",
    "        label_str=f'|{'':<15} ||  {'Accuracy':>15} | {'Precision':>15} | {'Recall':>15} | {'F1-Score':>15} |'\n",
    "        print(\"-\" * len(label_str))\n",
    "\n",
    "        print(label_str)\n",
    "        print(\"-\" * len(label_str))\n",
    "\n",
    "        for result_label, sub_res_dict in results.items():\n",
    "            output_str = f'|{result_label:<15} || '\n",
    "            \n",
    "            for key, val in sub_res_dict.items():\n",
    "                output_str += f' {val:15.4f} |'\n",
    "            print(output_str)\n",
    "    \n",
    "        print(\"-\" * len(label_str))\n",
    "\n",
    "    new_res_df = results_to_df(model.__class__.__name__, model_description, preproc_desc, results)\n",
    "    \n",
    "    # if os.path.exists(res_file):\n",
    "    #     old_res_df = pd.read_csv(res_file)\n",
    "    #     old_res_df.set_index(['model_type', 'description', 'preprocessing description', 'metric'], inplace=True)\n",
    "    \n",
    "    #     res_df = pd.concat([old_res_df, new_res_df])\n",
    "    #     res_df.to_csv(res_file)\n",
    "    # else:\n",
    "    #     new_res_df.to_csv(res_file)\n",
    "        \n",
    "\n",
    "    return new_res_df"
   ]
  },
  {
   "cell_type": "code",
   "execution_count": 43,
   "id": "3d6e45d8-7c1b-4e40-9678-174f11c5ef36",
   "metadata": {},
   "outputs": [],
   "source": [
    "def results_to_df(model_type, model_desc, preproc_desc, result_dict):\n",
    "    res_df = pd.DataFrame.from_dict(result_dict)\n",
    "    res_df['model_type'] = model_type\n",
    "    res_df['description'] = model_desc\n",
    "    res_df['preprocessing description'] = preproc_desc\n",
    "    res_df.reset_index(inplace=True)\n",
    "    res_df.rename({'index':'metric'}, axis=1, inplace=True)\n",
    "    res_df.set_index(['model_type', 'description', 'preprocessing description', 'metric'], inplace=True)\n",
    "\n",
    "    return res_df\n",
    "    "
   ]
  },
  {
   "cell_type": "code",
   "execution_count": 47,
   "id": "b87d7175-fc47-4b69-985f-dfc0ca0afc6b",
   "metadata": {},
   "outputs": [],
   "source": [
    "def train_those_models(Train_X_Tfidf, Train_Y, Val_X_Tfidf, Val_Y, Test_X_Tfidf, Test_Y, \n",
    "                                    outfile, preprocessing_description):\n",
    "\n",
    "    models_to_eval = [\n",
    "        (svm.SVC(), 'default_settings'),\n",
    "        (svm.SVC(C=1.0, kernel='linear', degree=3, gamma='auto'), 'C=1, kernel Linear, deg 3, gamma auto'),\n",
    "        (svm.SVC(C=1.0, kernel='rbf', degree=3, gamma='scale'), 'C=1, kernel rbf, deg 3 gamma scale'),\n",
    "        (svm.SVC(C=1.0, kernel='poly', degree=2, gamma='scale'), 'C=1, kernel poly, deg 2 gamma scale'),\n",
    "        (svm.SVC(C=1.0, kernel='poly', degree=3, gamma='scale'), 'C=1, kernel poly, deg 3 gamma scale'),\n",
    "        (svm.SVC(C=1.0, kernel='poly', degree=4, gamma='scale'), 'C=1, kernel poly, deg 4 gamma scale'),\n",
    "        (svm.SVC(C=1.0, kernel='sigmoid', degree=3, gamma='scale'), 'C=1, kernel sigmoid, deg 3 gamma scale'),\n",
    "        (svm.LinearSVC(), 'default'),\n",
    "        #(svm.LinearSVC(C=10), 'C=10'),\n",
    "        #(svm.LinearSVC(C=10, max_iter=5000), 'C=10, max_it 5000'),\n",
    "        (svm.LinearSVC(C=10, max_iter=25000), 'C=10, max_it 25000'),\n",
    "        #(svm.LinearSVC(C=20, max_iter=5000), 'C=20, max_it 5000'),\n",
    "        (svm.LinearSVC(C=20, max_iter=25000), 'C=20, max_it 25000'),\n",
    "        (svm.LinearSVC(C=50, max_iter=25000), 'C=50, max_it 25000'),\n",
    "        #(svm.LinearSVC(C=10, multi_class='crammer_singer', max_iter=5000), 'C=10, crammer-singer, max_it 5000'),\n",
    "        (svm.LinearSVC(C=10, multi_class='crammer_singer', max_iter=25000), 'C=10, crammer-singer, max_it 25000'),\n",
    "       # (svm.LinearSVC(C=20, multi_class='crammer_singer', max_iter=5000), 'C=20, crammer-singer, max_it 5000'),\n",
    "        (svm.LinearSVC(C=20, multi_class='crammer_singer', max_iter=25000), 'C=20, crammer-singer, max_it 25000'),\n",
    "        (svm.NuSVC(), 'default'),\n",
    "        (svm.NuSVC(kernel='linear'), 'nu=0.5, kernel linear'),\n",
    "        (svm.NuSVC(nu=.75, kernel='linear'), 'nu=0.75, kernel linear'),\n",
    "        (svm.NuSVC(nu=.25, kernel='linear'), 'nu=0.25, kernel linear'),\n",
    "        (naive_bayes.MultinomialNB(), 'default'),\n",
    "        (neural_network.MLPClassifier(), 'default'),\n",
    "        (neural_network.MLPClassifier(hidden_layer_sizes=(200,), max_iter=1000), 'hidden_layer_size 200, max it 1000'),\n",
    "        (neural_network.MLPClassifier(activation='logistic', max_iter=500), 'logistic act, 500 iter')\n",
    "        \n",
    "        \n",
    "    ]\n",
    "    param_list = []\n",
    "    for model, model_desc in models_to_eval:\n",
    "        params = (model, Train_X_Tfidf, Train_Y, Val_X_Tfidf, Val_Y, Test_X_Tfidf, Test_Y, model_desc, preprocessing_description)\n",
    "        param_list.append(params)\n",
    "\n",
    "    with mp.Pool(11) as p:\n",
    "        results = p.starmap(evaluate_model, param_list)\n",
    "\n",
    "   res_df = pd.concat(results)\n",
    "   res_df.to_csv(outfile)\n",
    "\n"
   ]
  },
  {
   "cell_type": "code",
   "execution_count": null,
   "id": "f7ee8e64-48d5-4c3f-b407-39a1ff221caf",
   "metadata": {},
   "outputs": [],
   "source": [
    "chunk_grid = {\n",
    "    'num_chunks':[1, 5, 10, 20, 50, 100],\n",
    "    'chunk_size':[100, 250, 500, 1000, 2000]\n",
    "}\n",
    "chunk_list = list(itertools.product(chunk_grid['num_chunks'],\n",
    "                            chunk_grid['chunk_size']))\n",
    "\n",
    "for num_chunks, chunk_size in chunk_list:\n",
    "    print(num_chunks, chunk_size)\n",
    "\n",
    "    test_one_chunk( num_chunks, chunk_size, x_col='text', tokenized_col='tokenized')\n",
    "\n"
   ]
  },
  {
   "cell_type": "code",
   "execution_count": null,
   "id": "462af034-8085-4555-96a6-be409bd227a1",
   "metadata": {},
   "outputs": [],
   "source": []
  },
  {
   "cell_type": "code",
   "execution_count": null,
   "id": "ac9db37e-04d7-4e14-af73-9661e203e795",
   "metadata": {},
   "outputs": [],
   "source": []
  },
  {
   "cell_type": "code",
   "execution_count": null,
   "id": "5c52ca9f-e29e-486a-b5f0-2dbe3668a862",
   "metadata": {},
   "outputs": [],
   "source": []
  },
  {
   "cell_type": "code",
   "execution_count": null,
   "id": "35c2b1ae-d413-403f-84bf-15c28e93319e",
   "metadata": {},
   "outputs": [],
   "source": []
  },
  {
   "cell_type": "code",
   "execution_count": null,
   "id": "42e96014-b091-4f44-a208-fa81b4b04228",
   "metadata": {},
   "outputs": [],
   "source": []
  }
 ],
 "metadata": {
  "kernelspec": {
   "display_name": "school-env",
   "language": "python",
   "name": "school-env"
  },
  "language_info": {
   "codemirror_mode": {
    "name": "ipython",
    "version": 3
   },
   "file_extension": ".py",
   "mimetype": "text/x-python",
   "name": "python",
   "nbconvert_exporter": "python",
   "pygments_lexer": "ipython3",
   "version": "3.13.3"
  },
  "widgets": {
   "application/vnd.jupyter.widget-state+json": {
    "state": {
     "01f49d24ab0e430bb224255ac4ce8703": {
      "model_module": "@jupyter-widgets/controls",
      "model_module_version": "2.0.0",
      "model_name": "HBoxModel",
      "state": {
       "children": [
        "IPY_MODEL_7fdd291e80164ac98ea033946d8200c6",
        "IPY_MODEL_4360bcddb5594eedbbe8f9d0b60492da",
        "IPY_MODEL_06a17f72c8114950b3d015984cafd234"
       ],
       "layout": "IPY_MODEL_5d3ab26cadf64babb42506a87161ded4"
      }
     },
     "06a17f72c8114950b3d015984cafd234": {
      "model_module": "@jupyter-widgets/controls",
      "model_module_version": "2.0.0",
      "model_name": "HTMLModel",
      "state": {
       "layout": "IPY_MODEL_9d12e811910a4a1696c232c405c1cba1",
       "style": "IPY_MODEL_1af1165262f24edbae1a773e7758bd34",
       "value": " 240/240 [00:00&lt;00:00, 3770.64it/s]"
      }
     },
     "08ecd9d4f6e14a0db230cc47e9f47f72": {
      "model_module": "@jupyter-widgets/controls",
      "model_module_version": "2.0.0",
      "model_name": "HTMLModel",
      "state": {
       "layout": "IPY_MODEL_9cf9dd6fd8564eb5a75999d9a14696a6",
       "style": "IPY_MODEL_694b8b13a2de4ff89655a2f27b87bb73",
       "value": " 240/240 [00:00&lt;00:00, 3678.50it/s]"
      }
     },
     "0dbf25dee7864589bcf4f54692714437": {
      "model_module": "@jupyter-widgets/base",
      "model_module_version": "2.0.0",
      "model_name": "LayoutModel",
      "state": {}
     },
     "0f8fa73ceb3c4940b778316619c6868d": {
      "model_module": "@jupyter-widgets/controls",
      "model_module_version": "2.0.0",
      "model_name": "HTMLModel",
      "state": {
       "layout": "IPY_MODEL_17cdaefc89a2474993a5a2d8e654eac6",
       "style": "IPY_MODEL_fcb67fbd5ae74187a9fdc85a08f35f25",
       "value": " 240/240 [00:03&lt;00:00,  1.91it/s]"
      }
     },
     "17cdaefc89a2474993a5a2d8e654eac6": {
      "model_module": "@jupyter-widgets/base",
      "model_module_version": "2.0.0",
      "model_name": "LayoutModel",
      "state": {}
     },
     "1ade64fe30894df282982161b49a9b94": {
      "model_module": "@jupyter-widgets/controls",
      "model_module_version": "2.0.0",
      "model_name": "ProgressStyleModel",
      "state": {
       "description_width": ""
      }
     },
     "1af1165262f24edbae1a773e7758bd34": {
      "model_module": "@jupyter-widgets/controls",
      "model_module_version": "2.0.0",
      "model_name": "HTMLStyleModel",
      "state": {
       "description_width": "",
       "font_size": null,
       "text_color": null
      }
     },
     "2330e106f69844afbc6bc46e6a139514": {
      "model_module": "@jupyter-widgets/controls",
      "model_module_version": "2.0.0",
      "model_name": "HTMLModel",
      "state": {
       "layout": "IPY_MODEL_2e386b8efa014e068b233fa72a4ed69a",
       "style": "IPY_MODEL_c35be10efe474db0952a73f3453be85a",
       "value": " 1920/1920 [00:00&lt;00:00, 7941.32it/s]"
      }
     },
     "29498176558e4301a7ae941848bf4bda": {
      "model_module": "@jupyter-widgets/base",
      "model_module_version": "2.0.0",
      "model_name": "LayoutModel",
      "state": {}
     },
     "2b6243378b4b4a158f92fa741231c00a": {
      "model_module": "@jupyter-widgets/controls",
      "model_module_version": "2.0.0",
      "model_name": "FloatProgressModel",
      "state": {
       "bar_style": "success",
       "layout": "IPY_MODEL_87d28db7a316445e9634632b89def260",
       "max": 240,
       "style": "IPY_MODEL_91710cab6b134e1582e275ffd248e8bf",
       "value": 240
      }
     },
     "2e386b8efa014e068b233fa72a4ed69a": {
      "model_module": "@jupyter-widgets/base",
      "model_module_version": "2.0.0",
      "model_name": "LayoutModel",
      "state": {}
     },
     "2f46a2719b2b4f79972ec5adabb74362": {
      "model_module": "@jupyter-widgets/controls",
      "model_module_version": "2.0.0",
      "model_name": "FloatProgressModel",
      "state": {
       "bar_style": "success",
       "layout": "IPY_MODEL_790a93037b844b9199ea13dcfae3d6d2",
       "max": 1920,
       "style": "IPY_MODEL_1ade64fe30894df282982161b49a9b94",
       "value": 1920
      }
     },
     "38828681ede04222869f1037549a463d": {
      "model_module": "@jupyter-widgets/base",
      "model_module_version": "2.0.0",
      "model_name": "LayoutModel",
      "state": {}
     },
     "3dd320779afd4416851123a6e1fb3b19": {
      "model_module": "@jupyter-widgets/base",
      "model_module_version": "2.0.0",
      "model_name": "LayoutModel",
      "state": {}
     },
     "3e5149d06f12495a8f3f9028e11d0380": {
      "model_module": "@jupyter-widgets/controls",
      "model_module_version": "2.0.0",
      "model_name": "HBoxModel",
      "state": {
       "children": [
        "IPY_MODEL_a31f204583d348ddbad39ae4c3009ed4",
        "IPY_MODEL_2f46a2719b2b4f79972ec5adabb74362",
        "IPY_MODEL_f15331453a1c462d85762cbe2482b7f9"
       ],
       "layout": "IPY_MODEL_3dd320779afd4416851123a6e1fb3b19"
      }
     },
     "42fe7ab7ec3643189491b6046ad35ccc": {
      "model_module": "@jupyter-widgets/controls",
      "model_module_version": "2.0.0",
      "model_name": "HTMLModel",
      "state": {
       "layout": "IPY_MODEL_e6f656cab623491093116b3a6a117845",
       "style": "IPY_MODEL_915fe892d00a435d9a7c1371306ddb83",
       "value": "100%"
      }
     },
     "4360bcddb5594eedbbe8f9d0b60492da": {
      "model_module": "@jupyter-widgets/controls",
      "model_module_version": "2.0.0",
      "model_name": "FloatProgressModel",
      "state": {
       "bar_style": "success",
       "layout": "IPY_MODEL_51a469267b304bd59b59c5bc70227cea",
       "max": 240,
       "style": "IPY_MODEL_57b0b7072c18473eaf52b9dc985ee09e",
       "value": 240
      }
     },
     "43a9a0e9926d48a59a6c5b41db18b36a": {
      "model_module": "@jupyter-widgets/controls",
      "model_module_version": "2.0.0",
      "model_name": "HTMLStyleModel",
      "state": {
       "description_width": "",
       "font_size": null,
       "text_color": null
      }
     },
     "477119a5c9644420885546486e7c03a8": {
      "model_module": "@jupyter-widgets/base",
      "model_module_version": "2.0.0",
      "model_name": "LayoutModel",
      "state": {}
     },
     "50d7b455ab114ed495064799884e6a4f": {
      "model_module": "@jupyter-widgets/controls",
      "model_module_version": "2.0.0",
      "model_name": "HTMLStyleModel",
      "state": {
       "description_width": "",
       "font_size": null,
       "text_color": null
      }
     },
     "51a469267b304bd59b59c5bc70227cea": {
      "model_module": "@jupyter-widgets/base",
      "model_module_version": "2.0.0",
      "model_name": "LayoutModel",
      "state": {}
     },
     "545d377349f5420bb863377fa3729ea7": {
      "model_module": "@jupyter-widgets/controls",
      "model_module_version": "2.0.0",
      "model_name": "FloatProgressModel",
      "state": {
       "bar_style": "success",
       "layout": "IPY_MODEL_a988f958c6e84867ae863aba9ac5a692",
       "max": 1920,
       "style": "IPY_MODEL_7dd74228591849258f522f70edb7151d",
       "value": 1920
      }
     },
     "55a0d4b085314677a85758d9b3d62a19": {
      "model_module": "@jupyter-widgets/controls",
      "model_module_version": "2.0.0",
      "model_name": "HTMLModel",
      "state": {
       "layout": "IPY_MODEL_38828681ede04222869f1037549a463d",
       "style": "IPY_MODEL_a3bcd11efcbb4dd886ede5474e883c37",
       "value": "100%"
      }
     },
     "57b0b7072c18473eaf52b9dc985ee09e": {
      "model_module": "@jupyter-widgets/controls",
      "model_module_version": "2.0.0",
      "model_name": "ProgressStyleModel",
      "state": {
       "description_width": ""
      }
     },
     "59477f3dce6f4d9da3dee3de21cf4f86": {
      "model_module": "@jupyter-widgets/base",
      "model_module_version": "2.0.0",
      "model_name": "LayoutModel",
      "state": {}
     },
     "5c3908114f9c48ee85ea82325f8dc5ef": {
      "model_module": "@jupyter-widgets/controls",
      "model_module_version": "2.0.0",
      "model_name": "FloatProgressModel",
      "state": {
       "bar_style": "success",
       "layout": "IPY_MODEL_59477f3dce6f4d9da3dee3de21cf4f86",
       "max": 240,
       "style": "IPY_MODEL_a838c60fdbe04b548672007aeafb19d0",
       "value": 240
      }
     },
     "5d3ab26cadf64babb42506a87161ded4": {
      "model_module": "@jupyter-widgets/base",
      "model_module_version": "2.0.0",
      "model_name": "LayoutModel",
      "state": {}
     },
     "5f1b0c390eb24b37bf15fc39ad272077": {
      "model_module": "@jupyter-widgets/controls",
      "model_module_version": "2.0.0",
      "model_name": "HBoxModel",
      "state": {
       "children": [
        "IPY_MODEL_42fe7ab7ec3643189491b6046ad35ccc",
        "IPY_MODEL_a28fa40769474eb8b768012819b293d9",
        "IPY_MODEL_0f8fa73ceb3c4940b778316619c6868d"
       ],
       "layout": "IPY_MODEL_ac38a329609d47288c4faaf825390910"
      }
     },
     "6186082875774a86bf470ce6f839e013": {
      "model_module": "@jupyter-widgets/controls",
      "model_module_version": "2.0.0",
      "model_name": "HTMLModel",
      "state": {
       "layout": "IPY_MODEL_0dbf25dee7864589bcf4f54692714437",
       "style": "IPY_MODEL_81249e6939634b6aa8843ea26ec32ef0",
       "value": "100%"
      }
     },
     "694b8b13a2de4ff89655a2f27b87bb73": {
      "model_module": "@jupyter-widgets/controls",
      "model_module_version": "2.0.0",
      "model_name": "HTMLStyleModel",
      "state": {
       "description_width": "",
       "font_size": null,
       "text_color": null
      }
     },
     "6a7bcf3b9e25425cb0112f8d54cffee8": {
      "model_module": "@jupyter-widgets/controls",
      "model_module_version": "2.0.0",
      "model_name": "HBoxModel",
      "state": {
       "children": [
        "IPY_MODEL_984fce78d9514be58c3c3d95f44e7b60",
        "IPY_MODEL_545d377349f5420bb863377fa3729ea7",
        "IPY_MODEL_2330e106f69844afbc6bc46e6a139514"
       ],
       "layout": "IPY_MODEL_a480c9df3eef424e82d254d39edaad37"
      }
     },
     "78c70d9bc0324a09bd55cc672d35f6b7": {
      "model_module": "@jupyter-widgets/controls",
      "model_module_version": "2.0.0",
      "model_name": "HTMLStyleModel",
      "state": {
       "description_width": "",
       "font_size": null,
       "text_color": null
      }
     },
     "790a93037b844b9199ea13dcfae3d6d2": {
      "model_module": "@jupyter-widgets/base",
      "model_module_version": "2.0.0",
      "model_name": "LayoutModel",
      "state": {}
     },
     "7dd74228591849258f522f70edb7151d": {
      "model_module": "@jupyter-widgets/controls",
      "model_module_version": "2.0.0",
      "model_name": "ProgressStyleModel",
      "state": {
       "description_width": ""
      }
     },
     "7fdd291e80164ac98ea033946d8200c6": {
      "model_module": "@jupyter-widgets/controls",
      "model_module_version": "2.0.0",
      "model_name": "HTMLModel",
      "state": {
       "layout": "IPY_MODEL_ef716458bc904ff2a2d4faab2279a121",
       "style": "IPY_MODEL_bc3a6b8957bd403c9ba774c0c69cc9a5",
       "value": "100%"
      }
     },
     "81249e6939634b6aa8843ea26ec32ef0": {
      "model_module": "@jupyter-widgets/controls",
      "model_module_version": "2.0.0",
      "model_name": "HTMLStyleModel",
      "state": {
       "description_width": "",
       "font_size": null,
       "text_color": null
      }
     },
     "87d28db7a316445e9634632b89def260": {
      "model_module": "@jupyter-widgets/base",
      "model_module_version": "2.0.0",
      "model_name": "LayoutModel",
      "state": {}
     },
     "915fe892d00a435d9a7c1371306ddb83": {
      "model_module": "@jupyter-widgets/controls",
      "model_module_version": "2.0.0",
      "model_name": "HTMLStyleModel",
      "state": {
       "description_width": "",
       "font_size": null,
       "text_color": null
      }
     },
     "91710cab6b134e1582e275ffd248e8bf": {
      "model_module": "@jupyter-widgets/controls",
      "model_module_version": "2.0.0",
      "model_name": "ProgressStyleModel",
      "state": {
       "description_width": ""
      }
     },
     "984fce78d9514be58c3c3d95f44e7b60": {
      "model_module": "@jupyter-widgets/controls",
      "model_module_version": "2.0.0",
      "model_name": "HTMLModel",
      "state": {
       "layout": "IPY_MODEL_c48ecf38a70b4665b7b3b9fc85c60340",
       "style": "IPY_MODEL_78c70d9bc0324a09bd55cc672d35f6b7",
       "value": "100%"
      }
     },
     "9b892ebde2a04f78bd93e2a6a22ce744": {
      "model_module": "@jupyter-widgets/controls",
      "model_module_version": "2.0.0",
      "model_name": "ProgressStyleModel",
      "state": {
       "description_width": ""
      }
     },
     "9cf9dd6fd8564eb5a75999d9a14696a6": {
      "model_module": "@jupyter-widgets/base",
      "model_module_version": "2.0.0",
      "model_name": "LayoutModel",
      "state": {}
     },
     "9d12e811910a4a1696c232c405c1cba1": {
      "model_module": "@jupyter-widgets/base",
      "model_module_version": "2.0.0",
      "model_name": "LayoutModel",
      "state": {}
     },
     "a28fa40769474eb8b768012819b293d9": {
      "model_module": "@jupyter-widgets/controls",
      "model_module_version": "2.0.0",
      "model_name": "FloatProgressModel",
      "state": {
       "bar_style": "success",
       "layout": "IPY_MODEL_a57b51caf08b47fa877fd8dbd3e118ee",
       "max": 240,
       "style": "IPY_MODEL_9b892ebde2a04f78bd93e2a6a22ce744",
       "value": 240
      }
     },
     "a31f204583d348ddbad39ae4c3009ed4": {
      "model_module": "@jupyter-widgets/controls",
      "model_module_version": "2.0.0",
      "model_name": "HTMLModel",
      "state": {
       "layout": "IPY_MODEL_a90264d0df714bc299d127f8f47c892b",
       "style": "IPY_MODEL_d23f019b847243b9bd92421a12d473f9",
       "value": "100%"
      }
     },
     "a3bcd11efcbb4dd886ede5474e883c37": {
      "model_module": "@jupyter-widgets/controls",
      "model_module_version": "2.0.0",
      "model_name": "HTMLStyleModel",
      "state": {
       "description_width": "",
       "font_size": null,
       "text_color": null
      }
     },
     "a480c9df3eef424e82d254d39edaad37": {
      "model_module": "@jupyter-widgets/base",
      "model_module_version": "2.0.0",
      "model_name": "LayoutModel",
      "state": {}
     },
     "a57b51caf08b47fa877fd8dbd3e118ee": {
      "model_module": "@jupyter-widgets/base",
      "model_module_version": "2.0.0",
      "model_name": "LayoutModel",
      "state": {}
     },
     "a838c60fdbe04b548672007aeafb19d0": {
      "model_module": "@jupyter-widgets/controls",
      "model_module_version": "2.0.0",
      "model_name": "ProgressStyleModel",
      "state": {
       "description_width": ""
      }
     },
     "a90264d0df714bc299d127f8f47c892b": {
      "model_module": "@jupyter-widgets/base",
      "model_module_version": "2.0.0",
      "model_name": "LayoutModel",
      "state": {}
     },
     "a988f958c6e84867ae863aba9ac5a692": {
      "model_module": "@jupyter-widgets/base",
      "model_module_version": "2.0.0",
      "model_name": "LayoutModel",
      "state": {}
     },
     "ab3009d6626840fe8ec20bf0f2b474e5": {
      "model_module": "@jupyter-widgets/base",
      "model_module_version": "2.0.0",
      "model_name": "LayoutModel",
      "state": {}
     },
     "ac38a329609d47288c4faaf825390910": {
      "model_module": "@jupyter-widgets/base",
      "model_module_version": "2.0.0",
      "model_name": "LayoutModel",
      "state": {}
     },
     "bc3a6b8957bd403c9ba774c0c69cc9a5": {
      "model_module": "@jupyter-widgets/controls",
      "model_module_version": "2.0.0",
      "model_name": "HTMLStyleModel",
      "state": {
       "description_width": "",
       "font_size": null,
       "text_color": null
      }
     },
     "c35be10efe474db0952a73f3453be85a": {
      "model_module": "@jupyter-widgets/controls",
      "model_module_version": "2.0.0",
      "model_name": "HTMLStyleModel",
      "state": {
       "description_width": "",
       "font_size": null,
       "text_color": null
      }
     },
     "c48ecf38a70b4665b7b3b9fc85c60340": {
      "model_module": "@jupyter-widgets/base",
      "model_module_version": "2.0.0",
      "model_name": "LayoutModel",
      "state": {}
     },
     "c5ff32b5ce4c46de99f587e6e17f6654": {
      "model_module": "@jupyter-widgets/base",
      "model_module_version": "2.0.0",
      "model_name": "LayoutModel",
      "state": {}
     },
     "ccae467df7d3482ca87109d226bddc2f": {
      "model_module": "@jupyter-widgets/controls",
      "model_module_version": "2.0.0",
      "model_name": "HTMLModel",
      "state": {
       "layout": "IPY_MODEL_c5ff32b5ce4c46de99f587e6e17f6654",
       "style": "IPY_MODEL_50d7b455ab114ed495064799884e6a4f",
       "value": " 240/240 [00:04&lt;00:00, 73.95it/s]"
      }
     },
     "cd4d55a46cb24014aae19473f0b8dca9": {
      "model_module": "@jupyter-widgets/controls",
      "model_module_version": "2.0.0",
      "model_name": "HBoxModel",
      "state": {
       "children": [
        "IPY_MODEL_6186082875774a86bf470ce6f839e013",
        "IPY_MODEL_2b6243378b4b4a158f92fa741231c00a",
        "IPY_MODEL_ccae467df7d3482ca87109d226bddc2f"
       ],
       "layout": "IPY_MODEL_ab3009d6626840fe8ec20bf0f2b474e5"
      }
     },
     "d23f019b847243b9bd92421a12d473f9": {
      "model_module": "@jupyter-widgets/controls",
      "model_module_version": "2.0.0",
      "model_name": "HTMLStyleModel",
      "state": {
       "description_width": "",
       "font_size": null,
       "text_color": null
      }
     },
     "e6f656cab623491093116b3a6a117845": {
      "model_module": "@jupyter-widgets/base",
      "model_module_version": "2.0.0",
      "model_name": "LayoutModel",
      "state": {}
     },
     "ef716458bc904ff2a2d4faab2279a121": {
      "model_module": "@jupyter-widgets/base",
      "model_module_version": "2.0.0",
      "model_name": "LayoutModel",
      "state": {}
     },
     "f0d447b036e6403593fb697d1f937537": {
      "model_module": "@jupyter-widgets/controls",
      "model_module_version": "2.0.0",
      "model_name": "HBoxModel",
      "state": {
       "children": [
        "IPY_MODEL_55a0d4b085314677a85758d9b3d62a19",
        "IPY_MODEL_5c3908114f9c48ee85ea82325f8dc5ef",
        "IPY_MODEL_08ecd9d4f6e14a0db230cc47e9f47f72"
       ],
       "layout": "IPY_MODEL_477119a5c9644420885546486e7c03a8"
      }
     },
     "f15331453a1c462d85762cbe2482b7f9": {
      "model_module": "@jupyter-widgets/controls",
      "model_module_version": "2.0.0",
      "model_name": "HTMLModel",
      "state": {
       "layout": "IPY_MODEL_29498176558e4301a7ae941848bf4bda",
       "style": "IPY_MODEL_43a9a0e9926d48a59a6c5b41db18b36a",
       "value": " 1920/1920 [00:05&lt;00:00, 695.50it/s]"
      }
     },
     "fcb67fbd5ae74187a9fdc85a08f35f25": {
      "model_module": "@jupyter-widgets/controls",
      "model_module_version": "2.0.0",
      "model_name": "HTMLStyleModel",
      "state": {
       "description_width": "",
       "font_size": null,
       "text_color": null
      }
     }
    },
    "version_major": 2,
    "version_minor": 0
   }
  }
 },
 "nbformat": 4,
 "nbformat_minor": 5
}
